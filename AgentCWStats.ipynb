{
 "cells": [
  {
   "cell_type": "code",
   "execution_count": 1,
   "metadata": {
    "collapsed": false
   },
   "outputs": [],
   "source": [
    "import numpy as np\n",
    "import matplotlib.pyplot as plt\n",
    "import pandas as pd\n",
    "\n",
    "import warnings\n",
    "warnings.filterwarnings('ignore')\n"
   ]
  },
  {
   "cell_type": "code",
   "execution_count": null,
   "metadata": {
    "collapsed": true
   },
   "outputs": [],
   "source": [
    " "
   ]
  },
  {
   "cell_type": "code",
   "execution_count": 11,
   "metadata": {
    "collapsed": false
   },
   "outputs": [],
   "source": [
    "def average_utility(agent,dataset):\n",
    "    agent1 = dataset[dataset[\"Agent 1\"].str.contains(agent)]\n",
    "    agent2 = dataset[dataset[\"Agent 2\"].str.contains(agent)]\n",
    "    agent3 = dataset[dataset[\"Agent 3\"].str.contains(agent)]\n",
    "\n",
    "    \n",
    "    agent1 = agent1[agent1[\"Agreement\"] == \"Yes\"]\n",
    "    agent2 = agent2[agent2[\"Agreement\"] == \"Yes\"]\n",
    "    agent3 = agent3[agent3[\"Agreement\"] == \"Yes\"]\n",
    "    \n",
    "    mean = (np.mean(agent1[\"Utility 1\"]) + np.mean(agent2[\"Utility 2\"]) + np.mean(agent3[\"Utility 3\"])) /3\n",
    "    \n",
    "    return (agent1[\"Utility 1\"].append(agent2[\"Utility 2\"])).append(agent3[\"Utility 3\"])\n",
    "   "
   ]
  },
  {
   "cell_type": "code",
   "execution_count": 50,
   "metadata": {
    "collapsed": true
   },
   "outputs": [],
   "source": [
    "def average_utility_with_no_agreement(agent,dataset):\n",
    "    agent1 = dataset[dataset[\"Agent 1\"].str.contains(agent)]\n",
    "    agent2 = dataset[dataset[\"Agent 2\"].str.contains(agent)]\n",
    "    agent3 = dataset[dataset[\"Agent 3\"].str.contains(agent)]\n",
    "\n",
    "    mean = (np.mean(agent1[\"Utility 1\"]) + np.mean(agent2[\"Utility 2\"]) + np.mean(agent3[\"Utility 3\"])) /3\n",
    "    \n",
    "    return (agent1[\"Utility 1\"].append(agent2[\"Utility 2\"])).append(agent3[\"Utility 3\"])"
   ]
  },
  {
   "cell_type": "code",
   "execution_count": 38,
   "metadata": {
    "collapsed": true
   },
   "outputs": [],
   "source": [
    "def print_stats(dataset,agent):\n",
    "    print(\"Utility of \",agent[0],\" : \",average_utility(agent[0],dataset).describe())\n",
    "    print(\"Utility of \",agent[1],\" : \",average_utility(agent[1],dataset).describe())\n",
    "    print(\"Utility of \",agent[2],\" : \",average_utility(agent[2],dataset).describe())\n",
    "\n",
    "    print(\"Number of no agreements: \", len(dataset[dataset[\"Agreement\"]==\"No\"]))\n",
    "    print(\"Number of agreements: \", len(dataset[dataset[\"Agreement\"]==\"Yes\"]))\n",
    "    print(\"Distance to Nash: \", dataset[dataset[\"Agreement\"]==\"Yes\"][\"Dist. to Nash\"].describe())\n",
    "    "
   ]
  },
  {
   "cell_type": "code",
   "execution_count": 52,
   "metadata": {
    "collapsed": true
   },
   "outputs": [],
   "source": [
    "def print_stats_with_no_agreement(dataset,agent):\n",
    "    print(\"Utility of \",agent[0],\" : \",average_utility_with_no_agreement(agent[0],dataset).describe())\n",
    "    print(\"Utility of \",agent[1],\" : \",average_utility_with_no_agreement(agent[1],dataset).describe())\n",
    "    print(\"Utility of \",agent[2],\" : \",average_utility_with_no_agreement(agent[2],dataset).describe())\n",
    "\n",
    "    print(\"Number of no agreements: \", len(dataset[dataset[\"Agreement\"]==\"No\"]))\n",
    "    print(\"Number of agreements: \", len(dataset[dataset[\"Agreement\"]==\"Yes\"]))\n",
    "    print(\"Distance to Nash: \", dataset[dataset[\"Agreement\"]==\"Yes\"][\"Dist. to Nash\"].describe())\n",
    "    "
   ]
  },
  {
   "cell_type": "markdown",
   "metadata": {},
   "source": [
    "# Party Domain Stats (no agreements not included)"
   ]
  },
  {
   "cell_type": "code",
   "execution_count": 39,
   "metadata": {
    "collapsed": false
   },
   "outputs": [],
   "source": [
    "# agent_tourney party is 3 bests agents\n",
    "agent_party = pd.read_csv('agents_tourney_party.csv',delimiter=';')\n",
    "agent_party.drop(agent_party.columns[[1,2,3,5]], inplace=True,axis=1)\n",
    "\n",
    "\n",
    "# our_tourney_party stats\n",
    "our_party = pd.read_csv('our_tourney_party.csv',delimiter=';')\n",
    "our_party.drop(our_party.columns[[1,2,3,5]], inplace=True,axis=1)"
   ]
  },
  {
   "cell_type": "code",
   "execution_count": 45,
   "metadata": {
    "collapsed": false
   },
   "outputs": [
    {
     "name": "stdout",
     "output_type": "stream",
     "text": [
      "Utility of  ParsCat  :  count    81.000000\n",
      "mean      0.777422\n",
      "std       0.046633\n",
      "min       0.677500\n",
      "25%       0.737500\n",
      "50%       0.758375\n",
      "75%       0.813973\n",
      "max       0.892528\n",
      "dtype: float64\n",
      "Utility of  Caduceus  :  count    81.000000\n",
      "mean      0.767163\n",
      "std       0.076423\n",
      "min       0.381061\n",
      "25%       0.725000\n",
      "50%       0.753333\n",
      "75%       0.808212\n",
      "max       0.928565\n",
      "dtype: float64\n",
      "Utility of  YXAgent  :  count    72.000000\n",
      "mean      0.826783\n",
      "std       0.024025\n",
      "min       0.800833\n",
      "25%       0.808212\n",
      "50%       0.830449\n",
      "75%       0.835833\n",
      "max       0.928565\n",
      "dtype: float64\n",
      "Number of no agreements:  3\n",
      "Number of agreements:  78\n",
      "Distance to Nash:  count    78.000000\n",
      "mean      0.151449\n",
      "std       0.076621\n",
      "min       0.000000\n",
      "25%       0.103010\n",
      "50%       0.159040\n",
      "75%       0.192560\n",
      "max       0.569230\n",
      "Name: Dist. to Nash, dtype: float64\n",
      "-------AGENT 12 STATS----------\n",
      "Utility of  Agent12  :  count    70.000000\n",
      "mean      0.759234\n",
      "std       0.047724\n",
      "min       0.702185\n",
      "25%       0.718659\n",
      "50%       0.741939\n",
      "75%       0.797708\n",
      "max       0.845064\n",
      "dtype: float64\n",
      "Utility of  Caduceus  :  count    74.000000\n",
      "mean      0.784799\n",
      "std       0.066770\n",
      "min       0.704011\n",
      "25%       0.735242\n",
      "50%       0.772500\n",
      "75%       0.830449\n",
      "max       0.928565\n",
      "dtype: float64\n",
      "Utility of  YXAgent  :  count    72.000000\n",
      "mean      0.830782\n",
      "std       0.028384\n",
      "min       0.800833\n",
      "25%       0.808212\n",
      "50%       0.833461\n",
      "75%       0.840014\n",
      "max       0.928565\n",
      "dtype: float64\n",
      "Number of no agreements:  9\n",
      "Number of agreements:  72\n",
      "Distance to Nash:  count    72.000000\n",
      "mean      0.131241\n",
      "std       0.069587\n",
      "min       0.000000\n",
      "25%       0.103010\n",
      "50%       0.159040\n",
      "75%       0.187985\n",
      "max       0.233260\n",
      "Name: Dist. to Nash, dtype: float64\n"
     ]
    }
   ],
   "source": [
    "print_stats(agent_party,[\"ParsCat\",\"Caduceus\",\"YXAgent\"])\n",
    "print(\"-------AGENT 12 STATS----------\")\n",
    "print_stats(our_party,[\"Agent12\",\"Caduceus\",\"YXAgent\"])"
   ]
  },
  {
   "cell_type": "code",
   "execution_count": null,
   "metadata": {
    "collapsed": false
   },
   "outputs": [],
   "source": []
  },
  {
   "cell_type": "markdown",
   "metadata": {},
   "source": [
    "# Windfarm Stats (no agreements not included)"
   ]
  },
  {
   "cell_type": "code",
   "execution_count": 46,
   "metadata": {
    "collapsed": false
   },
   "outputs": [],
   "source": [
    "# agent_tourney party is 3 bests agents\n",
    "agent_wind = pd.read_csv('agents_tourney_wind.csv',delimiter=';')\n",
    "agent_wind.drop(agent_wind.columns[[1,2,3,5]], inplace=True,axis=1)\n",
    "\n",
    "\n",
    "# our_tourney_party stats\n",
    "our_wind = pd.read_csv('our_tourney_wind.csv',delimiter=';')\n",
    "our_wind.drop(our_wind.columns[[1,2,3,5]], inplace=True,axis=1)"
   ]
  },
  {
   "cell_type": "code",
   "execution_count": 47,
   "metadata": {
    "collapsed": false
   },
   "outputs": [
    {
     "name": "stdout",
     "output_type": "stream",
     "text": [
      "Utility of  ParsCat  :  count    81.000000\n",
      "mean      0.855308\n",
      "std       0.060460\n",
      "min       0.666667\n",
      "25%       0.800000\n",
      "50%       0.880000\n",
      "75%       0.900000\n",
      "max       0.980000\n",
      "dtype: float64\n",
      "Utility of  Caduceus  :  count    81.000000\n",
      "mean      0.826875\n",
      "std       0.083341\n",
      "min       0.447455\n",
      "25%       0.800000\n",
      "50%       0.830000\n",
      "75%       0.898304\n",
      "max       0.980000\n",
      "dtype: float64\n",
      "Utility of  YXAgent  :  count    81.000000\n",
      "mean      0.853304\n",
      "std       0.043850\n",
      "min       0.800000\n",
      "25%       0.800000\n",
      "50%       0.850000\n",
      "75%       0.900000\n",
      "max       0.927352\n",
      "dtype: float64\n",
      "Number of no agreements:  0\n",
      "Number of agreements:  81\n",
      "Distance to Nash:  count    81.000000\n",
      "mean      0.073671\n",
      "std       0.080889\n",
      "min       0.000000\n",
      "25%       0.000000\n",
      "50%       0.057830\n",
      "75%       0.122830\n",
      "max       0.472820\n",
      "Name: Dist. to Nash, dtype: float64\n",
      "-------AGENT 12 STATS----------\n",
      "Utility of  Agent12  :  count    80.000000\n",
      "mean      0.816704\n",
      "std       0.078481\n",
      "min       0.702633\n",
      "25%       0.766667\n",
      "50%       0.800000\n",
      "75%       0.857753\n",
      "max       0.980000\n",
      "dtype: float64\n",
      "Utility of  Caduceus  :  count    79.000000\n",
      "mean      0.823564\n",
      "std       0.101298\n",
      "min       0.390618\n",
      "25%       0.766667\n",
      "50%       0.830000\n",
      "75%       0.900000\n",
      "max       0.980000\n",
      "dtype: float64\n",
      "Utility of  YXAgent  :  count    81.000000\n",
      "mean      0.863045\n",
      "std       0.052787\n",
      "min       0.800000\n",
      "25%       0.830000\n",
      "50%       0.850000\n",
      "75%       0.900000\n",
      "max       0.980000\n",
      "dtype: float64\n",
      "Number of no agreements:  1\n",
      "Number of agreements:  80\n",
      "Distance to Nash:  count    80.000000\n",
      "mean      0.122655\n",
      "std       0.094457\n",
      "min       0.000000\n",
      "25%       0.058360\n",
      "50%       0.078880\n",
      "75%       0.209640\n",
      "max       0.529400\n",
      "Name: Dist. to Nash, dtype: float64\n"
     ]
    }
   ],
   "source": [
    "print_stats(agent_wind,[\"ParsCat\",\"Caduceus\",\"YXAgent\"])\n",
    "print(\"-------AGENT 12 STATS----------\")\n",
    "print_stats(our_wind,[\"Agent12\",\"Caduceus\",\"YXAgent\"])"
   ]
  },
  {
   "cell_type": "markdown",
   "metadata": {},
   "source": [
    "# EnergyFarm stats (no agreements not included)"
   ]
  },
  {
   "cell_type": "code",
   "execution_count": 48,
   "metadata": {
    "collapsed": true
   },
   "outputs": [],
   "source": [
    "# agent_tourney party is 3 bests agents\n",
    "agent_energy = pd.read_csv('agents_tourney_energy.csv',delimiter=';')\n",
    "agent_energy.drop(agent_energy.columns[[1,2,3,5]], inplace=True,axis=1)\n",
    "\n",
    "\n",
    "# our_tourney_party stats\n",
    "our_energy = pd.read_csv('our_tourney_energy.csv',delimiter=';')\n",
    "our_energy.drop(our_energy.columns[[1,2,3,5]], inplace=True,axis=1)"
   ]
  },
  {
   "cell_type": "code",
   "execution_count": 49,
   "metadata": {
    "collapsed": false
   },
   "outputs": [
    {
     "name": "stdout",
     "output_type": "stream",
     "text": [
      "Utility of  ParsCat  :  count    76.000000\n",
      "mean      0.729370\n",
      "std       0.060071\n",
      "min       0.604131\n",
      "25%       0.694902\n",
      "50%       0.717281\n",
      "75%       0.764178\n",
      "max       0.864289\n",
      "dtype: float64\n",
      "Utility of  Caduceus  :  count    58.000000\n",
      "mean      0.757208\n",
      "std       0.086955\n",
      "min       0.485320\n",
      "25%       0.708354\n",
      "50%       0.738216\n",
      "75%       0.795177\n",
      "max       0.983054\n",
      "dtype: float64\n",
      "Utility of  YXAgent  :  count    40.000000\n",
      "mean      0.831917\n",
      "std       0.022641\n",
      "min       0.807916\n",
      "25%       0.814789\n",
      "50%       0.822116\n",
      "75%       0.855680\n",
      "max       0.903898\n",
      "dtype: float64\n",
      "Number of no agreements:  23\n",
      "Number of agreements:  58\n",
      "Distance to Nash:  count    58.000000\n",
      "mean      0.204035\n",
      "std       0.084313\n",
      "min       0.028510\n",
      "25%       0.132510\n",
      "50%       0.171720\n",
      "75%       0.262700\n",
      "max       0.446020\n",
      "Name: Dist. to Nash, dtype: float64\n",
      "-------AGENT 12 STATS----------\n",
      "Utility of  Agent12  :  count    30.000000\n",
      "mean      0.741180\n",
      "std       0.032099\n",
      "min       0.701202\n",
      "25%       0.708354\n",
      "50%       0.751037\n",
      "75%       0.764866\n",
      "max       0.814789\n",
      "dtype: float64\n",
      "Utility of  Caduceus  :  count    39.000000\n",
      "mean      0.736993\n",
      "std       0.060373\n",
      "min       0.469765\n",
      "25%       0.708354\n",
      "50%       0.722881\n",
      "75%       0.760271\n",
      "max       0.864289\n",
      "dtype: float64\n",
      "Utility of  YXAgent  :  count    12.000000\n",
      "mean      0.833089\n",
      "std       0.020685\n",
      "min       0.814789\n",
      "25%       0.814789\n",
      "50%       0.823914\n",
      "75%       0.848906\n",
      "max       0.864289\n",
      "dtype: float64\n",
      "Number of no agreements:  54\n",
      "Number of agreements:  27\n",
      "Distance to Nash:  count    27.000000\n",
      "mean      0.202348\n",
      "std       0.055958\n",
      "min       0.132510\n",
      "25%       0.165190\n",
      "50%       0.171720\n",
      "75%       0.237595\n",
      "max       0.288260\n",
      "Name: Dist. to Nash, dtype: float64\n"
     ]
    }
   ],
   "source": [
    "print_stats(agent_energy,[\"ParsCat\",\"Caduceus\",\"YXAgent\"])\n",
    "print(\"-------AGENT 12 STATS----------\")\n",
    "print_stats(our_energy,[\"Agent12\",\"Caduceus\",\"YXAgent\"])"
   ]
  },
  {
   "cell_type": "markdown",
   "metadata": {},
   "source": [
    "# Energy Stats with no agreemets included"
   ]
  },
  {
   "cell_type": "code",
   "execution_count": 53,
   "metadata": {
    "collapsed": false
   },
   "outputs": [
    {
     "name": "stdout",
     "output_type": "stream",
     "text": [
      "Utility of  ParsCat  :  count    81.000000\n",
      "mean      0.684347\n",
      "std       0.185955\n",
      "min       0.000000\n",
      "25%       0.682500\n",
      "50%       0.708354\n",
      "75%       0.756772\n",
      "max       0.864289\n",
      "dtype: float64\n",
      "Utility of  Caduceus  :  count    81.000000\n",
      "mean      0.542198\n",
      "std       0.351315\n",
      "min       0.000000\n",
      "25%       0.000000\n",
      "50%       0.708354\n",
      "75%       0.764178\n",
      "max       0.983054\n",
      "dtype: float64\n",
      "Utility of  YXAgent  :  count    81.000000\n",
      "mean      0.410823\n",
      "std       0.418817\n",
      "min       0.000000\n",
      "25%       0.000000\n",
      "50%       0.000000\n",
      "75%       0.820325\n",
      "max       0.903898\n",
      "dtype: float64\n",
      "Number of no agreements:  23\n",
      "Number of agreements:  58\n",
      "Distance to Nash:  count    58.000000\n",
      "mean      0.204035\n",
      "std       0.084313\n",
      "min       0.028510\n",
      "25%       0.132510\n",
      "50%       0.171720\n",
      "75%       0.262700\n",
      "max       0.446020\n",
      "Name: Dist. to Nash, dtype: float64\n",
      "-------AGENT 12 STATS----------\n",
      "Utility of  Agent12  :  count    81.000000\n",
      "mean      0.274511\n",
      "std       0.360667\n",
      "min       0.000000\n",
      "25%       0.000000\n",
      "50%       0.000000\n",
      "75%       0.719544\n",
      "max       0.814789\n",
      "dtype: float64\n",
      "Utility of  Caduceus  :  count    81.000000\n",
      "mean      0.354848\n",
      "std       0.372867\n",
      "min       0.000000\n",
      "25%       0.000000\n",
      "50%       0.000000\n",
      "75%       0.722881\n",
      "max       0.864289\n",
      "dtype: float64\n",
      "Utility of  YXAgent  :  count    81.000000\n",
      "mean      0.123421\n",
      "std       0.297895\n",
      "min       0.000000\n",
      "25%       0.000000\n",
      "50%       0.000000\n",
      "75%       0.000000\n",
      "max       0.864289\n",
      "dtype: float64\n",
      "Number of no agreements:  54\n",
      "Number of agreements:  27\n",
      "Distance to Nash:  count    27.000000\n",
      "mean      0.202348\n",
      "std       0.055958\n",
      "min       0.132510\n",
      "25%       0.165190\n",
      "50%       0.171720\n",
      "75%       0.237595\n",
      "max       0.288260\n",
      "Name: Dist. to Nash, dtype: float64\n"
     ]
    }
   ],
   "source": [
    "print_stats_with_no_agreement(agent_energy,[\"ParsCat\",\"Caduceus\",\"YXAgent\"])\n",
    "print(\"-------AGENT 12 STATS----------\")\n",
    "print_stats_with_no_agreement(our_energy,[\"Agent12\",\"Caduceus\",\"YXAgent\"])"
   ]
  },
  {
   "cell_type": "code",
   "execution_count": null,
   "metadata": {
    "collapsed": true
   },
   "outputs": [],
   "source": []
  }
 ],
 "metadata": {
  "kernelspec": {
   "display_name": "Python 3",
   "language": "python",
   "name": "python3"
  },
  "language_info": {
   "codemirror_mode": {
    "name": "ipython",
    "version": 3
   },
   "file_extension": ".py",
   "mimetype": "text/x-python",
   "name": "python",
   "nbconvert_exporter": "python",
   "pygments_lexer": "ipython3",
   "version": "3.6.2"
  }
 },
 "nbformat": 4,
 "nbformat_minor": 0
}
